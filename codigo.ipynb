{
  "cells": [
    {
      "cell_type": "code",
      "execution_count": null,
      "metadata": {
        "colab": {
          "base_uri": "https://localhost:8080/"
        },
        "id": "1viJL8oyTwCY",
        "outputId": "3c8f1e12-c71a-4222-b7e9-bd230e4c5adc"
      },
      "outputs": [],
      "source": [
        "from bs4 import BeautifulSoup as bs\n",
        "import os, re\n",
        "from datetime import datetime, timedelta\n",
        "import pandas as pd\n",
        "from pycotacao import get_exchange_rates, CurrencyCodes\n",
        "import xlrd\n",
        "from openpyxl import Workbook, load_workbook\n",
        "\n",
        "tabela_siscomex = pd.read_excel('drive/MyDrive/Colab Notebooks/espelho/nova tabela siscomex.xlsx')\n",
        "\n",
        "arq = os.listdir('drive/MyDrive/Colab Notebooks/espelho/xml/')\n",
        "\n",
        "from google.colab import drive\n",
        "drive.mount('/content/drive')"
      ]
    },
    {
      "cell_type": "code",
      "execution_count": 203,
      "metadata": {
        "id": "vzhM4-ARSxDH"
      },
      "outputs": [],
      "source": [
        "def extracao(soup):\n",
        "  \"\"\"Função utilizada a fim de extrair todas as informações relevantes da declaração de importação, para que em breve seja inserida na fatura final.\"\"\"\n",
        "  dis = {}\n",
        "  dts = []\n",
        "  for prod in soup.find_all('informacaoComplementar'):\n",
        "    info = re.split(\"\\n\", prod.text)\n",
        "    dis['IV'] = info[4].split()[-1]\n",
        "    dis['Ref. Cliente'] = str('PO '+info[6].split()[-1])\n",
        "    dis['Conhecimento'] = str(info[3].split()[-1])\n",
        "  for prod in soup.find_all('cargaPesoBruto'):\n",
        "    dis['Peso Bruto'] = float(prod.text)/100000\n",
        "  for prod in soup.find_all('cargaPesoLiquido'):\n",
        "    dis['Peso Liquido'] = float(prod.text)/100000\n",
        "  for prod in soup.find_all('quantidadeVolume'):\n",
        "    dis['Volume'] = (prod.text)\n",
        "  for prod in soup.find_all('dataRegistro'):\n",
        "    dts.append(str(prod.text))\n",
        "    data_bruta = dts[0]\n",
        "    arrumar_data = data_bruta[0:4] + '-' + data_bruta[4:6] + '-' + data_bruta[6:]\n",
        "    data = datetime.strptime(arrumar_data, \"%Y-%m-%d\")\n",
        "    dis['Data Registro'] = data\n",
        "  for prod in soup.find_all('numeroDI'):\n",
        "    dis['Numero DI'] = (prod.text[:2] + '/' + prod.text[2:9] + '-' + prod.text[-1])\n",
        "  for prod in soup.find_all('viaTransporteNome'):\n",
        "    dis['Modal'] = (prod.text)\n",
        "  for prod in soup.find_all('localEmbarqueTotalDolares'):\n",
        "    dis['VMLE'] = float(prod.text)/100\n",
        "  for prod in soup.find_all('localDescargaTotalDolares'):\n",
        "    dis['VMLD'] = float(prod.text)/100\n",
        "  for prod in soup.find_all('iiAliquotaValorRecolher'):\n",
        "    dis['II'] = float(prod.text)/100\n",
        "  for prod in soup.find_all('ipiAliquotaValorRecolher'):\n",
        "    dis['IPI'] = float(prod.text)/100\n",
        "  for prod in soup.find_all('pisPasepAliquotaValorRecolher'):\n",
        "    dis['PIS'] = float(prod.text)/100\n",
        "  for prod in soup.find_all('cofinsAliquotaValorRecolher'):\n",
        "    dis['COFINS'] = float(prod.text)/100\n",
        "  for prod in soup.find_all('totalAdicoes'):\n",
        "    dis['adições'] = int(prod.text)\n",
        "  for prod in soup.find_all('freteValorMoedaNegociada'):\n",
        "    dis['Frete'] = float(prod.text)/100\n",
        "  for prod in soup.find_all('freteMoedaNegociadaCodigo'):\n",
        "    dis['Moeda Frete'] = (prod.text)\n",
        "  for prod in soup.find_all('seguroValorMoedaNegociada'):\n",
        "    dis['Seguro'] = float(prod.text)/100\n",
        "  for prod in soup.find_all('seguroMoedaNegociadaCodigo'):\n",
        "    dis['Moeda Seguro'] = (prod.text)\n",
        "  for prod in soup.find_all('descricaoMercadoria'):\n",
        "    lista = []\n",
        "    lista.append(prod.text[:30])\n",
        "    dis['Mercadoria'] = lista[0]\n",
        "  return dis"
      ]
    },
    {
      "cell_type": "code",
      "execution_count": 204,
      "metadata": {
        "id": "L9V4X6FDQHRx"
      },
      "outputs": [],
      "source": [
        "def taxas(**kwargs):\n",
        "  \"\"\"Muitos valores necessitam ser convertidos, sejam para euros ou dolar, e essa função nos traz as taxas de acordo com a data de registro da declaração\"\"\"\n",
        "  kwargs['Taxa dolar DI'] = get_exchange_rates(CurrencyCodes.USD, dt=kwargs['Data Registro'] - timedelta(1)).selling_rate\n",
        "  kwargs['Taxa euro DI'] = get_exchange_rates(CurrencyCodes.EUR, dt=kwargs['Data Registro'] - timedelta(1)).selling_rate\n",
        "  return kwargs"
      ]
    },
    {
      "cell_type": "code",
      "execution_count": 205,
      "metadata": {
        "id": "j7RpwgSK7ZHL"
      },
      "outputs": [],
      "source": [
        "def taxa_siscomex(tabela_siscomex, **kwargs):\n",
        "  \"\"\"função que realiza o calculo da taxa siscomex, buscando a informação na tabela, usando as adições para tal\"\"\"\n",
        "  Qtd_XML = int(kwargs['adições'])\n",
        "  Valor_Siscomex = tabela_siscomex['Valor'][Qtd_XML-1]\n",
        "  kwargs['Siscomex'] = float(Valor_Siscomex)\n",
        "  return kwargs"
      ]
    },
    {
      "cell_type": "code",
      "execution_count": 206,
      "metadata": {
        "id": "_MN-xYVjVbvM"
      },
      "outputs": [],
      "source": [
        "def total_impostos(**kwargs):\n",
        "  \"\"\"calculo da soma total dos impostos da declaração\"\"\"\n",
        "  kwargs['Total impostos'] = kwargs['II'] + kwargs['IPI'] + kwargs['PIS'] + kwargs['COFINS'] + kwargs['Siscomex']\n",
        "  return kwargs"
      ]
    },
    {
      "cell_type": "code",
      "execution_count": 207,
      "metadata": {
        "id": "nR8ua7i4NzsB"
      },
      "outputs": [],
      "source": [
        "def cif(**kwargs):\n",
        "  \"\"\"calculo do valor cif que deve ser informado na fatura, arredondado com duas casas decimais\"\"\"\n",
        "  kwargs['CIF'] = round(kwargs['VMLD'] * kwargs['Taxa dolar DI'], 2)\n",
        "  return kwargs"
      ]
    },
    {
      "cell_type": "code",
      "execution_count": 208,
      "metadata": {
        "id": "dVchX6-6VBMt"
      },
      "outputs": [],
      "source": [
        "def fob(**kwargs):\n",
        "  \"\"\"calculo do valor fob que deve ser informado na fatura, arredondado com duas casas decimais\"\"\"\n",
        "  kwargs['FOB'] = round(kwargs['VMLE'] * kwargs['Taxa dolar DI'], 2)\n",
        "  return kwargs"
      ]
    },
    {
      "cell_type": "code",
      "execution_count": 209,
      "metadata": {
        "id": "IYkTcH6RYmq4"
      },
      "outputs": [],
      "source": [
        "def frete_dolar(**kwargs):\n",
        "  \"\"\"o cliente necessita que o frete seja informado em dolar, então nós realizamos as conversões se necessárias e criamos um campo para o valor com essa função\"\"\"\n",
        "  if kwargs['Moeda Frete'] == '790':\n",
        "    kwargs['Frete_dolar'] = round(kwargs['Frete'] / kwargs['Taxa dolar DI'], 2)\n",
        "  elif kwargs['Moeda Frete'] == '978':\n",
        "    euro_p_real = kwargs['Frete'] * kwargs['Taxa euro DI']\n",
        "    kwargs['Frete_dolar'] = round(euro_p_real / kwargs['Taxa dolar DI'], 2)\n",
        "  elif kwargs['Moeda Frete'] == '220':\n",
        "    kwargs['Frete_dolar'] = round(kwargs['Frete'], 2)\n",
        "  else:\n",
        "    kwargs['Frete_dolar'] = 0\n",
        "  return kwargs"
      ]
    },
    {
      "cell_type": "code",
      "execution_count": 210,
      "metadata": {
        "id": "8Mw7Ar3QlVZD"
      },
      "outputs": [],
      "source": [
        "def seguro_dolar(**kwargs):\n",
        "  \"\"\"o cliente necessita que o seguro seja informado em dolar, então nós realizamos as conversões se necessárias e criamos um campo para o valor com essa função\"\"\"\n",
        "  if kwargs['Moeda Seguro'] == '790':\n",
        "    kwargs['Seguro_dolar'] = round(kwargs['Seguro'] / kwargs['Taxa dolar DI'], 2)\n",
        "  elif kwargs['Moeda Seguro'] == '978':\n",
        "    euro_p_real = kwargs['Seguro'] * kwargs['Taxa euro DI']\n",
        "    kwargs['Seguro_dolar'] = round(euro_p_real / kwargs['Taxa dolar DI'], 2)\n",
        "  elif kwargs['Moeda Seguro'] == '220':\n",
        "    kwargs['Seguro_dolar'] = round(kwargs['Seguro'], 2)\n",
        "  else:\n",
        "    kwargs['Seguro_dolar'] = 0\n",
        "  return kwargs"
      ]
    },
    {
      "cell_type": "code",
      "execution_count": 211,
      "metadata": {
        "id": "O94bqfCRbAMV"
      },
      "outputs": [],
      "source": [
        "def abrir_arquivo(arquivo):\n",
        "  \"\"\"função usada para abrirmos o arquivo da Declaração de importação adequadamente para podermos extrair informações.\"\"\"\n",
        "  with open('drive/MyDrive/Colab Notebooks/espelho/xml/' + arquivo)as fp:\n",
        "    soup = bs(fp, 'xml')\n",
        "  return soup"
      ]
    },
    {
      "cell_type": "code",
      "execution_count": 212,
      "metadata": {
        "id": "pHewq9jUaZon"
      },
      "outputs": [],
      "source": [
        "def ajuste_peso(**kwargs):\n",
        "  \"\"\"função criada para fazermos uma pequena modificação nos campos de peso\"\"\"\n",
        "  kwargs['Peso Bruto'] = str(kwargs['Peso Bruto']) + 'Kgs'\n",
        "  kwargs['Peso Liquido'] = str(kwargs['Peso Liquido']) + 'Kgs'\n",
        "  return kwargs"
      ]
    },
    {
      "cell_type": "code",
      "execution_count": 213,
      "metadata": {
        "id": "HMap2NKwiE8B"
      },
      "outputs": [],
      "source": [
        "def excel(**kwargs):\n",
        "  \"\"\"função usada para carregar o modelo da fatura, e apos isso, inserir as informações  em cada campo específico, salvando com a referencia do cliente como titulo.\"\"\"\n",
        "  book = load_workbook('drive/MyDrive/Colab Notebooks/espelho/modele.xlsx') \n",
        "  writer = pd.ExcelWriter('drive/MyDrive/Colab Notebooks/espelho/espelho.xlsx', engine='openpyxl')\n",
        "  writer.book = book\n",
        "  ws = book.active\n",
        "  ws['C26'] = kwargs['IV']\n",
        "  ws['C27'] = kwargs['Ref. Cliente']\n",
        "  ws['C32'] = kwargs['Modal']\n",
        "  ws['C33'] = kwargs['Numero DI']\n",
        "  ws['C34'] = kwargs['Data Registro']\n",
        "  ws['C35'] = kwargs['Conhecimento']\n",
        "  ws['C36'] = kwargs['Peso Bruto']\n",
        "  ws['C37'] = kwargs['Peso Liquido']\n",
        "  ws['C38'] = kwargs['Volume']\n",
        "  ws['C39'] = kwargs['Mercadoria']\n",
        "  ws['C41'] = kwargs['CIF']\n",
        "  ws['C46'] = kwargs['VMLE']\n",
        "  ws['C47'] = kwargs['Frete_dolar']\n",
        "  ws['C48'] = kwargs['Seguro_dolar']\n",
        "  ws['C49'] = kwargs['VMLD']\n",
        "  ws['C53'] = kwargs['II']\n",
        "  ws['C54'] = kwargs['IPI']\n",
        "  ws['C55'] = kwargs['Siscomex']\n",
        "  ws['C56'] = kwargs['PIS']\n",
        "  ws['C57'] = kwargs['COFINS']\n",
        "  ws['C58'] = kwargs['Total impostos']\n",
        "  ws['I9'] = datetime.now()\n",
        "  ws['H14'] = (datetime.now() + timedelta(20))\n",
        "  titulo = kwargs['Ref. Cliente']\n",
        "  writer.book.save(f'drive/MyDrive/Colab Notebooks/espelho/{titulo}.xlsx')\n",
        "  writer.book.close()"
      ]
    },
    {
      "cell_type": "code",
      "execution_count": 214,
      "metadata": {
        "id": "1nPB11dSdAWB"
      },
      "outputs": [],
      "source": [
        "for cont in range(len(arq)):\n",
        "    dis = extracao(abrir_arquivo(arq[cont]))\n",
        "    dis = taxa_siscomex(tabela_siscomex,**dis)\n",
        "    dis = total_impostos(**dis)\n",
        "    dis = taxas(**dis)\n",
        "    dis = cif(**dis)\n",
        "    dis = fob(**dis)\n",
        "    dis = frete_dolar(**dis)\n",
        "    dis = seguro_dolar(**dis)\n",
        "    dis = ajuste_peso(**dis)\n",
        "    excel(**dis)\n"
      ]
    }
  ],
  "metadata": {
    "colab": {
      "collapsed_sections": [],
      "name": "merck.ipynb",
      "provenance": []
    },
    "kernelspec": {
      "display_name": "Python 3.9.13 64-bit (windows store)",
      "language": "python",
      "name": "python3"
    },
    "language_info": {
      "codemirror_mode": {
        "name": "ipython",
        "version": 3
      },
      "file_extension": ".py",
      "mimetype": "text/x-python",
      "name": "python",
      "nbconvert_exporter": "python",
      "pygments_lexer": "ipython3",
      "version": "3.9.13"
    },
    "vscode": {
      "interpreter": {
        "hash": "39bd3ad16b2e84fcf2ee920b65d6bf1824f6a95f88f7adce2ba24309905ad2e1"
      }
    }
  },
  "nbformat": 4,
  "nbformat_minor": 0
}
